{
 "cells": [
  {
   "cell_type": "code",
   "execution_count": 1,
   "id": "ec0c1f83-e7b1-49af-82b9-c6855b41f749",
   "metadata": {},
   "outputs": [
    {
     "name": "stderr",
     "output_type": "stream",
     "text": [
      "C:\\Users\\User\\anaconda3\\envs\\tensorflow_env\\lib\\site-packages\\tqdm\\auto.py:21: TqdmWarning: IProgress not found. Please update jupyter and ipywidgets. See https://ipywidgets.readthedocs.io/en/stable/user_install.html\n",
      "  from .autonotebook import tqdm as notebook_tqdm\n"
     ]
    }
   ],
   "source": [
    "import pandas as pd\n",
    "import numpy as np\n",
    "from sklearn.model_selection import train_test_split\n",
    "from sklearn.preprocessing import StandardScaler, LabelEncoder\n",
    "from tensorflow.keras.models import Sequential, load_model\n",
    "from tensorflow.keras.layers import Dense, Dropout, Conv1D, MaxPooling1D, LSTM, Reshape\n",
    "from tensorflow.keras.utils import to_categorical\n",
    "from tensorflow.keras.callbacks import ModelCheckpoint\n",
    "from tensorflow.keras.callbacks import EarlyStopping, ModelCheckpoint\n",
    "import tensorflow as tf\n",
    "import os\n",
    "import shap\n",
    "import matplotlib.pyplot as plt"
   ]
  },
  {
   "cell_type": "code",
   "execution_count": 2,
   "id": "c708e061-0d91-41fc-b6be-c75765190c72",
   "metadata": {},
   "outputs": [
    {
     "name": "stdout",
     "output_type": "stream",
     "text": [
      "1 Physical GPUs, 1 Logical GPUs\n"
     ]
    }
   ],
   "source": [
    "gpus = tf.config.experimental.list_physical_devices('GPU')\n",
    "if gpus:\n",
    "    try:\n",
    "        for gpu in gpus:\n",
    "            tf.config.experimental.set_memory_growth(gpu, True)\n",
    "        logical_gpus = tf.config.experimental.list_logical_devices('GPU')\n",
    "        print(len(gpus), \"Physical GPUs,\", len(logical_gpus), \"Logical GPUs\")\n",
    "    except RuntimeError as e:\n",
    "        print(e)"
   ]
  },
  {
   "cell_type": "code",
   "execution_count": 3,
   "id": "f4d748bf-46b0-40fa-b12b-8ef622ecb998",
   "metadata": {},
   "outputs": [],
   "source": [
    "data_path = 'Dataset'\n",
    "try:\n",
    "    all_files = [os.path.join(data_path, f) for f in os.listdir(data_path) if f.endswith('.csv')]\n",
    "    df = pd.concat((pd.read_csv(f, on_bad_lines='skip') for f in all_files), ignore_index=True)\n",
    "except FileNotFoundError:\n",
    "    print(\"Directory not found...\")    "
   ]
  },
  {
   "cell_type": "code",
   "execution_count": 4,
   "id": "47c49795-c803-4424-b172-2f914998e7b6",
   "metadata": {},
   "outputs": [
    {
     "data": {
      "text/plain": [
       "(2830743, 79)"
      ]
     },
     "execution_count": 4,
     "metadata": {},
     "output_type": "execute_result"
    }
   ],
   "source": [
    "df.shape"
   ]
  },
  {
   "cell_type": "code",
   "execution_count": 5,
   "id": "b2c681b0-4a4d-4654-835e-00600ce8cae2",
   "metadata": {},
   "outputs": [
    {
     "data": {
      "text/plain": [
       "Index(['Destination Port', 'Flow Duration', 'Total Fwd Packets',\n",
       "       'Total Backward Packets', 'Total Length of Fwd Packets',\n",
       "       'Total Length of Bwd Packets', 'Fwd Packet Length Max',\n",
       "       'Fwd Packet Length Min', 'Fwd Packet Length Mean',\n",
       "       'Fwd Packet Length Std', 'Bwd Packet Length Max',\n",
       "       'Bwd Packet Length Min', 'Bwd Packet Length Mean',\n",
       "       'Bwd Packet Length Std', 'Flow Bytes/s', 'Flow Packets/s',\n",
       "       'Flow IAT Mean', 'Flow IAT Std', 'Flow IAT Max', 'Flow IAT Min',\n",
       "       'Fwd IAT Total', 'Fwd IAT Mean', 'Fwd IAT Std', 'Fwd IAT Max',\n",
       "       'Fwd IAT Min', 'Bwd IAT Total', 'Bwd IAT Mean', 'Bwd IAT Std',\n",
       "       'Bwd IAT Max', 'Bwd IAT Min', 'Fwd PSH Flags', 'Bwd PSH Flags',\n",
       "       'Fwd URG Flags', 'Bwd URG Flags', 'Fwd Header Length',\n",
       "       'Bwd Header Length', 'Fwd Packets/s', 'Bwd Packets/s',\n",
       "       'Min Packet Length', 'Max Packet Length', 'Packet Length Mean',\n",
       "       'Packet Length Std', 'Packet Length Variance', 'FIN Flag Count',\n",
       "       'SYN Flag Count', 'RST Flag Count', 'PSH Flag Count', 'ACK Flag Count',\n",
       "       'URG Flag Count', 'CWE Flag Count', 'ECE Flag Count', 'Down/Up Ratio',\n",
       "       'Average Packet Size', 'Avg Fwd Segment Size', 'Avg Bwd Segment Size',\n",
       "       'Fwd Header Length.1', 'Fwd Avg Bytes/Bulk', 'Fwd Avg Packets/Bulk',\n",
       "       'Fwd Avg Bulk Rate', 'Bwd Avg Bytes/Bulk', 'Bwd Avg Packets/Bulk',\n",
       "       'Bwd Avg Bulk Rate', 'Subflow Fwd Packets', 'Subflow Fwd Bytes',\n",
       "       'Subflow Bwd Packets', 'Subflow Bwd Bytes', 'Init_Win_bytes_forward',\n",
       "       'Init_Win_bytes_backward', 'act_data_pkt_fwd', 'min_seg_size_forward',\n",
       "       'Active Mean', 'Active Std', 'Active Max', 'Active Min', 'Idle Mean',\n",
       "       'Idle Std', 'Idle Max', 'Idle Min', 'Label'],\n",
       "      dtype='object')"
      ]
     },
     "execution_count": 5,
     "metadata": {},
     "output_type": "execute_result"
    }
   ],
   "source": [
    "df.columns = df.columns.str.strip()\n",
    "df.columns"
   ]
  },
  {
   "cell_type": "code",
   "execution_count": 6,
   "id": "4ead959b-ebb5-4bd9-a246-409e32e7fa10",
   "metadata": {},
   "outputs": [
    {
     "data": {
      "text/plain": [
       "(2829385, 79)"
      ]
     },
     "execution_count": 6,
     "metadata": {},
     "output_type": "execute_result"
    }
   ],
   "source": [
    "df.dropna(inplace=True)\n",
    "df.shape"
   ]
  },
  {
   "cell_type": "code",
   "execution_count": 7,
   "id": "9a45aef4-50b4-46a1-b043-fb291f0d20e3",
   "metadata": {},
   "outputs": [
    {
     "data": {
      "text/plain": [
       "(2827876, 79)"
      ]
     },
     "execution_count": 7,
     "metadata": {},
     "output_type": "execute_result"
    }
   ],
   "source": [
    "df.replace([np.inf, -np.inf], np.nan, inplace=True)\n",
    "df.dropna(inplace=True)\n",
    "df.shape"
   ]
  },
  {
   "cell_type": "code",
   "execution_count": 8,
   "id": "8e1fa759-e994-4f0f-960a-416dc4828726",
   "metadata": {
    "scrolled": true
   },
   "outputs": [
    {
     "data": {
      "text/plain": [
       "(2520798, 79)"
      ]
     },
     "execution_count": 8,
     "metadata": {},
     "output_type": "execute_result"
    }
   ],
   "source": [
    "df.drop_duplicates(inplace=True)\n",
    "df.shape"
   ]
  },
  {
   "cell_type": "code",
   "execution_count": 9,
   "id": "1b01c566-9a50-4d32-a2af-fb82abfaf59c",
   "metadata": {},
   "outputs": [],
   "source": [
    "x = df.drop(columns=['Label'])\n",
    "y = df['Label']"
   ]
  },
  {
   "cell_type": "code",
   "execution_count": 10,
   "id": "ae722f67-46d7-41f7-b8b4-6d2eacbccdab",
   "metadata": {},
   "outputs": [],
   "source": [
    "feature_names = x.columns\n",
    "\n",
    "le = LabelEncoder()\n",
    "y_encoded = le.fit_transform(y)\n",
    "y_categorical = to_categorical(y_encoded)\n",
    "\n",
    "ss = StandardScaler()\n",
    "x_scaled = ss.fit_transform(x)"
   ]
  },
  {
   "cell_type": "code",
   "execution_count": 11,
   "id": "8385182c-d289-48d9-9dfb-8ec6012eeb1c",
   "metadata": {},
   "outputs": [
    {
     "data": {
      "text/plain": [
       "(2016638, 1, 78)"
      ]
     },
     "execution_count": 11,
     "metadata": {},
     "output_type": "execute_result"
    }
   ],
   "source": [
    "x_train, x_test, y_train, y_test = train_test_split(\n",
    "    x_scaled, \n",
    "    y_categorical, \n",
    "    test_size=0.2, \n",
    "    random_state=42,\n",
    "    stratify=y_categorical\n",
    ")\n",
    "\n",
    "# reshape data for CNN, LSTM [samples, timestep, features]\n",
    "x_train = np.reshape(x_train, (x_train.shape[0], 1, x_train.shape[1]))\n",
    "x_test = np.reshape(x_test, (x_test.shape[0], 1, x_test.shape[1]))\n",
    "\n",
    "x_train.shape"
   ]
  },
  {
   "cell_type": "code",
   "execution_count": 19,
   "id": "2421805e-87be-4972-bfe9-4c4a0fd0b043",
   "metadata": {},
   "outputs": [
    {
     "name": "stdout",
     "output_type": "stream",
     "text": [
      "No checkpoint found\n",
      "Model: \"sequential_1\"\n",
      "_________________________________________________________________\n",
      " Layer (type)                Output Shape              Param #   \n",
      "=================================================================\n",
      " conv1d_1 (Conv1D)           (None, 1, 64)             5056      \n",
      "                                                                 \n",
      " max_pooling1d_1 (MaxPooling  (None, 1, 64)            0         \n",
      " 1D)                                                             \n",
      "                                                                 \n",
      " lstm_1 (LSTM)               (None, 64)                33024     \n",
      "                                                                 \n",
      " dropout_2 (Dropout)         (None, 64)                0         \n",
      "                                                                 \n",
      " dense_2 (Dense)             (None, 128)               8320      \n",
      "                                                                 \n",
      " dropout_3 (Dropout)         (None, 128)               0         \n",
      "                                                                 \n",
      " dense_3 (Dense)             (None, 15)                1935      \n",
      "                                                                 \n",
      "=================================================================\n",
      "Total params: 48,335\n",
      "Trainable params: 48,335\n",
      "Non-trainable params: 0\n",
      "_________________________________________________________________\n"
     ]
    }
   ],
   "source": [
    "CHECKPOINT_DIR = 'Model'\n",
    "CHECKPOINT_FILE = os.path.join(CHECKPOINT_DIR, 'best_model.keras')\n",
    "batch_size = 256\n",
    "total_epoch = 20\n",
    "\n",
    "os.makedirs(CHECKPOINT_DIR, exist_ok=True)\n",
    "initial_epoch = 0\n",
    "\n",
    "if os.path.exists(CHECKPOINT_FILE):\n",
    "    print(f\"\\nLoading model from checkpoint: {CHECKPOINT_FILE}\")\n",
    "    model = load_model(CHECKPOINT_FILE)\n",
    "else:\n",
    "    print(\"No checkpoint found\")\n",
    "    # model\n",
    "    model = Sequential()\n",
    "    # CNN layer\n",
    "    model.add(Conv1D(filters=64, \n",
    "                     kernel_size=1, \n",
    "                     activation='relu',\n",
    "                     input_shape=(x_train.shape[1], x_train.shape[2])\n",
    "                    ))\n",
    "    model.add(MaxPooling1D(pool_size=1))\n",
    "    # LSTM layer\n",
    "    model.add(LSTM(64, return_sequences=False))\n",
    "    model.add(Dropout(0.5))\n",
    "    # dense layer\n",
    "    model.add(Dense(128, activation='relu'))\n",
    "    model.add(Dropout(0.5))\n",
    "    model.add(Dense(y_train.shape[1], activation='softmax'))\n",
    "    \n",
    "    model.compile(optimizer='adam',\n",
    "                 loss='categorical_crossentropy',\n",
    "                 metrics=['accuracy'])\n",
    "model.summary()"
   ]
  },
  {
   "cell_type": "code",
   "execution_count": 16,
   "id": "fb681302-88b7-4151-9e07-0b3413b13a77",
   "metadata": {},
   "outputs": [
    {
     "name": "stdout",
     "output_type": "stream",
     "text": [
      "Epoch 1/20\n",
      "6301/6302 [============================>.] - ETA: 0s - loss: 0.0902 - accuracy: 0.9701\n",
      "Epoch 1: val_loss improved from inf to 0.05058, saving model to checkpoints\\best_model.keras\n",
      "6302/6302 [==============================] - 51s 8ms/step - loss: 0.0902 - accuracy: 0.9701 - val_loss: 0.0506 - val_accuracy: 0.9793\n",
      "Epoch 2/20\n",
      "6295/6302 [============================>.] - ETA: 0s - loss: 0.0495 - accuracy: 0.9796\n",
      "Epoch 2: val_loss improved from 0.05058 to 0.04333, saving model to checkpoints\\best_model.keras\n",
      "6302/6302 [==============================] - 48s 8ms/step - loss: 0.0495 - accuracy: 0.9796 - val_loss: 0.0433 - val_accuracy: 0.9828\n",
      "Epoch 3/20\n",
      "6297/6302 [============================>.] - ETA: 0s - loss: 0.0435 - accuracy: 0.9820\n",
      "Epoch 3: val_loss improved from 0.04333 to 0.03674, saving model to checkpoints\\best_model.keras\n",
      "6302/6302 [==============================] - 49s 8ms/step - loss: 0.0435 - accuracy: 0.9820 - val_loss: 0.0367 - val_accuracy: 0.9836\n",
      "Epoch 4/20\n",
      "6297/6302 [============================>.] - ETA: 0s - loss: 0.0398 - accuracy: 0.9839\n",
      "Epoch 4: val_loss improved from 0.03674 to 0.03228, saving model to checkpoints\\best_model.keras\n",
      "6302/6302 [==============================] - 49s 8ms/step - loss: 0.0398 - accuracy: 0.9839 - val_loss: 0.0323 - val_accuracy: 0.9864\n",
      "Epoch 5/20\n",
      "6302/6302 [==============================] - ETA: 0s - loss: 0.0372 - accuracy: 0.9854\n",
      "Epoch 5: val_loss improved from 0.03228 to 0.02903, saving model to checkpoints\\best_model.keras\n",
      "6302/6302 [==============================] - 48s 8ms/step - loss: 0.0372 - accuracy: 0.9854 - val_loss: 0.0290 - val_accuracy: 0.9895\n",
      "Epoch 6/20\n",
      "6299/6302 [============================>.] - ETA: 0s - loss: 0.0318 - accuracy: 0.9890\n",
      "Epoch 6: val_loss improved from 0.02903 to 0.02130, saving model to checkpoints\\best_model.keras\n",
      "6302/6302 [==============================] - 50s 8ms/step - loss: 0.0318 - accuracy: 0.9890 - val_loss: 0.0213 - val_accuracy: 0.9927\n",
      "Epoch 7/20\n",
      "6300/6302 [============================>.] - ETA: 0s - loss: 0.0263 - accuracy: 0.9919\n",
      "Epoch 7: val_loss improved from 0.02130 to 0.01902, saving model to checkpoints\\best_model.keras\n",
      "6302/6302 [==============================] - 50s 8ms/step - loss: 0.0263 - accuracy: 0.9919 - val_loss: 0.0190 - val_accuracy: 0.9949\n",
      "Epoch 8/20\n",
      "6299/6302 [============================>.] - ETA: 0s - loss: 0.0270 - accuracy: 0.9915\n",
      "Epoch 8: val_loss did not improve from 0.01902\n",
      "6302/6302 [==============================] - 49s 8ms/step - loss: 0.0270 - accuracy: 0.9915 - val_loss: 0.0214 - val_accuracy: 0.9920\n",
      "Epoch 9/20\n",
      "6300/6302 [============================>.] - ETA: 0s - loss: 0.0257 - accuracy: 0.9920\n",
      "Epoch 9: val_loss improved from 0.01902 to 0.01792, saving model to checkpoints\\best_model.keras\n",
      "6302/6302 [==============================] - 50s 8ms/step - loss: 0.0257 - accuracy: 0.9920 - val_loss: 0.0179 - val_accuracy: 0.9941\n",
      "Epoch 10/20\n",
      "6298/6302 [============================>.] - ETA: 0s - loss: 0.0260 - accuracy: 0.9916\n",
      "Epoch 10: val_loss improved from 0.01792 to 0.01711, saving model to checkpoints\\best_model.keras\n",
      "6302/6302 [==============================] - 49s 8ms/step - loss: 0.0260 - accuracy: 0.9916 - val_loss: 0.0171 - val_accuracy: 0.9946\n",
      "Epoch 11/20\n",
      "6295/6302 [============================>.] - ETA: 0s - loss: 0.0254 - accuracy: 0.9920\n",
      "Epoch 11: val_loss did not improve from 0.01711\n",
      "6302/6302 [==============================] - 48s 8ms/step - loss: 0.0254 - accuracy: 0.9920 - val_loss: 0.0363 - val_accuracy: 0.9826\n",
      "Epoch 12/20\n",
      "6298/6302 [============================>.] - ETA: 0s - loss: 0.0275 - accuracy: 0.9903\n",
      "Epoch 12: val_loss did not improve from 0.01711\n",
      "6302/6302 [==============================] - 47s 7ms/step - loss: 0.0275 - accuracy: 0.9903 - val_loss: 0.0312 - val_accuracy: 0.9877\n",
      "Epoch 13/20\n",
      "6296/6302 [============================>.] - ETA: 0s - loss: 0.0286 - accuracy: 0.9899\n",
      "Epoch 13: val_loss did not improve from 0.01711\n",
      "6302/6302 [==============================] - 46s 7ms/step - loss: 0.0286 - accuracy: 0.9899 - val_loss: 0.0328 - val_accuracy: 0.9884\n"
     ]
    }
   ],
   "source": [
    "early_stoping = EarlyStopping(\n",
    "    monitor='val_loss',\n",
    "    patience=3,\n",
    "    restore_best_weights=True\n",
    ")\n",
    "\n",
    "best_checkpoint_path = os.path.join(CHECKPOINT_DIR, 'best_model.keras')\n",
    "model_checkpoint = ModelCheckpoint(\n",
    "    best_checkpoint_path,\n",
    "    monitor='val_loss',\n",
    "    save_best_only=True,\n",
    "    verbose=1\n",
    ")\n",
    "\n",
    "history = model.fit(\n",
    "    x_train, y_train,\n",
    "    validation_split=0.2,\n",
    "    epochs=total_epoch,\n",
    "    batch_size=batch_size,\n",
    "    callbacks=[early_stoping, model_checkpoint],\n",
    "    verbose=1,\n",
    "    initial_epoch=initial_epoch\n",
    ")"
   ]
  },
  {
   "cell_type": "code",
   "execution_count": 17,
   "id": "34a5c57f-35f5-4157-87c9-9f576a3b2fd4",
   "metadata": {},
   "outputs": [
    {
     "name": "stdout",
     "output_type": "stream",
     "text": [
      "\n",
      "Evaluating the model on the test set...\n",
      "15755/15755 [==============================] - 71s 5ms/step - loss: 0.0176 - accuracy: 0.9946\n",
      "\n",
      "Test Loss: 0.0176\n",
      "Test Accuracy: 0.9946\n"
     ]
    }
   ],
   "source": [
    "print(\"\\nEvaluating the model on the test set...\")\n",
    "loss, accuracy = model.evaluate(x_test, y_test, verbose=1)\n",
    "print(f\"\\nTest Loss: {loss:.4f}\")\n",
    "print(f\"Test Accuracy: {accuracy:.4f}\")"
   ]
  },
  {
   "cell_type": "code",
   "execution_count": 18,
   "id": "938a1299-0ff8-4db7-8ddd-51b164ee6515",
   "metadata": {},
   "outputs": [
    {
     "name": "stdout",
     "output_type": "stream",
     "text": [
      "\n",
      "--- Explainable AI (XAI) with SHAP ---\n",
      "Calculating SHAP values... This may take a moment.\n",
      "4/4 [==============================] - 0s 10ms/step\n"
     ]
    },
    {
     "name": "stderr",
     "output_type": "stream",
     "text": [
      "  0%|                                                                                           | 0/10 [00:00<?, ?it/s]"
     ]
    },
    {
     "name": "stdout",
     "output_type": "stream",
     "text": [
      "1/1 [==============================] - 0s 31ms/step\n",
      "6813/6813 [==============================] - 14s 2ms/step\n"
     ]
    },
    {
     "name": "stderr",
     "output_type": "stream",
     "text": [
      " 10%|████████▎                                                                          | 1/10 [00:18<02:48, 18.73s/it]"
     ]
    },
    {
     "name": "stdout",
     "output_type": "stream",
     "text": [
      "1/1 [==============================] - 0s 22ms/step\n",
      "6813/6813 [==============================] - 14s 2ms/step\n"
     ]
    },
    {
     "name": "stderr",
     "output_type": "stream",
     "text": [
      " 20%|████████████████▌                                                                  | 2/10 [00:35<02:20, 17.57s/it]"
     ]
    },
    {
     "name": "stdout",
     "output_type": "stream",
     "text": [
      "1/1 [==============================] - 0s 29ms/step\n",
      "6813/6813 [==============================] - 14s 2ms/step\n"
     ]
    },
    {
     "name": "stderr",
     "output_type": "stream",
     "text": [
      " 30%|████████████████████████▉                                                          | 3/10 [00:52<01:59, 17.13s/it]"
     ]
    },
    {
     "name": "stdout",
     "output_type": "stream",
     "text": [
      "1/1 [==============================] - 0s 26ms/step\n",
      "6813/6813 [==============================] - 14s 2ms/step\n"
     ]
    },
    {
     "name": "stderr",
     "output_type": "stream",
     "text": [
      " 40%|█████████████████████████████████▏                                                 | 4/10 [01:08<01:40, 16.80s/it]"
     ]
    },
    {
     "name": "stdout",
     "output_type": "stream",
     "text": [
      "1/1 [==============================] - 0s 29ms/step\n",
      "6813/6813 [==============================] - 15s 2ms/step\n"
     ]
    },
    {
     "name": "stderr",
     "output_type": "stream",
     "text": [
      " 50%|█████████████████████████████████████████▌                                         | 5/10 [01:26<01:25, 17.18s/it]"
     ]
    },
    {
     "name": "stdout",
     "output_type": "stream",
     "text": [
      "1/1 [==============================] - 0s 41ms/step\n",
      "6813/6813 [==============================] - 15s 2ms/step\n"
     ]
    },
    {
     "name": "stderr",
     "output_type": "stream",
     "text": [
      " 60%|█████████████████████████████████████████████████▊                                 | 6/10 [01:44<01:10, 17.60s/it]"
     ]
    },
    {
     "name": "stdout",
     "output_type": "stream",
     "text": [
      "1/1 [==============================] - 0s 28ms/step\n",
      "6813/6813 [==============================] - 16s 2ms/step\n"
     ]
    },
    {
     "name": "stderr",
     "output_type": "stream",
     "text": [
      " 70%|██████████████████████████████████████████████████████████                         | 7/10 [02:03<00:54, 18.09s/it]"
     ]
    },
    {
     "name": "stdout",
     "output_type": "stream",
     "text": [
      "1/1 [==============================] - 0s 28ms/step\n",
      "6813/6813 [==============================] - 17s 2ms/step\n"
     ]
    },
    {
     "name": "stderr",
     "output_type": "stream",
     "text": [
      " 80%|██████████████████████████████████████████████████████████████████▍                | 8/10 [02:24<00:37, 18.99s/it]"
     ]
    },
    {
     "name": "stdout",
     "output_type": "stream",
     "text": [
      "1/1 [==============================] - 0s 20ms/step\n",
      "6813/6813 [==============================] - 17s 2ms/step\n"
     ]
    },
    {
     "name": "stderr",
     "output_type": "stream",
     "text": [
      " 90%|██████████████████████████████████████████████████████████████████████████▋        | 9/10 [02:45<00:19, 19.60s/it]"
     ]
    },
    {
     "name": "stdout",
     "output_type": "stream",
     "text": [
      "1/1 [==============================] - 0s 39ms/step\n",
      "6813/6813 [==============================] - 15s 2ms/step\n"
     ]
    },
    {
     "name": "stderr",
     "output_type": "stream",
     "text": [
      "100%|██████████████████████████████████████████████████████████████████████████████████| 10/10 [03:04<00:00, 18.43s/it]\n"
     ]
    },
    {
     "name": "stdout",
     "output_type": "stream",
     "text": [
      "SHAP values calculated. Generating summary plot.\n"
     ]
    },
    {
     "data": {
      "image/png": "[encoded data removed]",
      "text/plain": [
       "<Figure size 800x950 with 1 Axes>"
      ]
     },
     "metadata": {},
     "output_type": "display_data"
    }
   ],
   "source": [
    "# Implement Explainable AI (XAI) with SHAP ---\n",
    "print(\"\\n--- Explainable AI (XAI) with SHAP ---\")\n",
    "print(\"Calculating SHAP values... This may take a moment.\")\n",
    "\n",
    "x_test_2d = np.reshape(x_test, (x_test.shape[0], x_test.shape[2]))\n",
    "explainer_data = x_test_2d[:100]\n",
    "\n",
    "def predict_fn(x):\n",
    "    x_reshaped = np.reshape(x, (x.shape[0], 1, x.shape[1]))\n",
    "    return model.predict(x_reshaped)\n",
    "\n",
    "# Create a SHAP explainer object using the new wrapper function\n",
    "explainer = shap.KernelExplainer(predict_fn, explainer_data)\n",
    "\n",
    "# Calculate SHAP values for a few test samples\n",
    "shap_values = explainer.shap_values(x_test_2d[:10])\n",
    "\n",
    "print(\"SHAP values calculated. Generating summary plot.\")\n",
    "\n",
    "# Generate the SHAP summary plot\n",
    "shap.summary_plot(shap_values, x_test_2d[:10], feature_names=feature_names, plot_type=\"bar\", show=False)\n",
    "plt.title(\"SHAP Feature Importance (Global)\")\n",
    "plt.tight_layout()\n",
    "plt.show()"
   ]
  }
 ],
 "metadata": {
  "kernelspec": {
   "display_name": "Python 3 (ipykernel)",
   "language": "python",
   "name": "python3"
  },
  "language_info": {
   "codemirror_mode": {
    "name": "ipython",
    "version": 3
   },
   "file_extension": ".py",
   "mimetype": "text/x-python",
   "name": "python",
   "nbconvert_exporter": "python",
   "pygments_lexer": "ipython3",
   "version": "3.10.18"
  }
 },
 "nbformat": 4,
 "nbformat_minor": 5
}
